{
 "cells": [
  {
   "cell_type": "code",
   "execution_count": 1,
   "metadata": {},
   "outputs": [],
   "source": [
    "import pandas as pd"
   ]
  },
  {
   "cell_type": "code",
   "execution_count": 2,
   "metadata": {},
   "outputs": [],
   "source": [
    "df = pd.read_csv(\"/home/akshay/data/personal/Python_projects/Snake/final_data.csv\")"
   ]
  },
  {
   "cell_type": "code",
   "execution_count": 4,
   "metadata": {},
   "outputs": [
    {
     "data": {
      "text/html": [
       "<div>\n",
       "<style scoped>\n",
       "    .dataframe tbody tr th:only-of-type {\n",
       "        vertical-align: middle;\n",
       "    }\n",
       "\n",
       "    .dataframe tbody tr th {\n",
       "        vertical-align: top;\n",
       "    }\n",
       "\n",
       "    .dataframe thead th {\n",
       "        text-align: right;\n",
       "    }\n",
       "</style>\n",
       "<table border=\"1\" class=\"dataframe\">\n",
       "  <thead>\n",
       "    <tr style=\"text-align: right;\">\n",
       "      <th></th>\n",
       "      <th>1</th>\n",
       "      <th>2</th>\n",
       "      <th>3</th>\n",
       "      <th>4</th>\n",
       "      <th>5</th>\n",
       "      <th>6</th>\n",
       "      <th>7</th>\n",
       "    </tr>\n",
       "  </thead>\n",
       "  <tbody>\n",
       "    <tr>\n",
       "      <th>0</th>\n",
       "      <td>0</td>\n",
       "      <td>130.00</td>\n",
       "      <td>0.500</td>\n",
       "      <td>1</td>\n",
       "      <td>0</td>\n",
       "      <td>0</td>\n",
       "      <td>3</td>\n",
       "    </tr>\n",
       "    <tr>\n",
       "      <th>1</th>\n",
       "      <td>1</td>\n",
       "      <td>130.38</td>\n",
       "      <td>0.524</td>\n",
       "      <td>1</td>\n",
       "      <td>0</td>\n",
       "      <td>0</td>\n",
       "      <td>3</td>\n",
       "    </tr>\n",
       "    <tr>\n",
       "      <th>2</th>\n",
       "      <td>2</td>\n",
       "      <td>131.53</td>\n",
       "      <td>0.549</td>\n",
       "      <td>1</td>\n",
       "      <td>0</td>\n",
       "      <td>0</td>\n",
       "      <td>3</td>\n",
       "    </tr>\n",
       "    <tr>\n",
       "      <th>3</th>\n",
       "      <td>3</td>\n",
       "      <td>133.42</td>\n",
       "      <td>0.572</td>\n",
       "      <td>1</td>\n",
       "      <td>0</td>\n",
       "      <td>0</td>\n",
       "      <td>3</td>\n",
       "    </tr>\n",
       "    <tr>\n",
       "      <th>4</th>\n",
       "      <td>4</td>\n",
       "      <td>136.01</td>\n",
       "      <td>0.595</td>\n",
       "      <td>1</td>\n",
       "      <td>0</td>\n",
       "      <td>0</td>\n",
       "      <td>3</td>\n",
       "    </tr>\n",
       "  </tbody>\n",
       "</table>\n",
       "</div>"
      ],
      "text/plain": [
       "   1       2      3  4  5  6  7\n",
       "0  0  130.00  0.500  1  0  0  3\n",
       "1  1  130.38  0.524  1  0  0  3\n",
       "2  2  131.53  0.549  1  0  0  3\n",
       "3  3  133.42  0.572  1  0  0  3\n",
       "4  4  136.01  0.595  1  0  0  3"
      ]
     },
     "execution_count": 4,
     "metadata": {},
     "output_type": "execute_result"
    }
   ],
   "source": [
    "df.head()"
   ]
  },
  {
   "cell_type": "code",
   "execution_count": 6,
   "metadata": {},
   "outputs": [],
   "source": [
    "df=df[['2','3','4','5','6','7']]"
   ]
  },
  {
   "cell_type": "code",
   "execution_count": 7,
   "metadata": {},
   "outputs": [
    {
     "data": {
      "text/html": [
       "<div>\n",
       "<style scoped>\n",
       "    .dataframe tbody tr th:only-of-type {\n",
       "        vertical-align: middle;\n",
       "    }\n",
       "\n",
       "    .dataframe tbody tr th {\n",
       "        vertical-align: top;\n",
       "    }\n",
       "\n",
       "    .dataframe thead th {\n",
       "        text-align: right;\n",
       "    }\n",
       "</style>\n",
       "<table border=\"1\" class=\"dataframe\">\n",
       "  <thead>\n",
       "    <tr style=\"text-align: right;\">\n",
       "      <th></th>\n",
       "      <th>2</th>\n",
       "      <th>3</th>\n",
       "      <th>4</th>\n",
       "      <th>5</th>\n",
       "      <th>6</th>\n",
       "      <th>7</th>\n",
       "    </tr>\n",
       "  </thead>\n",
       "  <tbody>\n",
       "    <tr>\n",
       "      <th>0</th>\n",
       "      <td>130.00</td>\n",
       "      <td>0.500</td>\n",
       "      <td>1</td>\n",
       "      <td>0</td>\n",
       "      <td>0</td>\n",
       "      <td>3</td>\n",
       "    </tr>\n",
       "    <tr>\n",
       "      <th>1</th>\n",
       "      <td>130.38</td>\n",
       "      <td>0.524</td>\n",
       "      <td>1</td>\n",
       "      <td>0</td>\n",
       "      <td>0</td>\n",
       "      <td>3</td>\n",
       "    </tr>\n",
       "    <tr>\n",
       "      <th>2</th>\n",
       "      <td>131.53</td>\n",
       "      <td>0.549</td>\n",
       "      <td>1</td>\n",
       "      <td>0</td>\n",
       "      <td>0</td>\n",
       "      <td>3</td>\n",
       "    </tr>\n",
       "    <tr>\n",
       "      <th>3</th>\n",
       "      <td>133.42</td>\n",
       "      <td>0.572</td>\n",
       "      <td>1</td>\n",
       "      <td>0</td>\n",
       "      <td>0</td>\n",
       "      <td>3</td>\n",
       "    </tr>\n",
       "    <tr>\n",
       "      <th>4</th>\n",
       "      <td>136.01</td>\n",
       "      <td>0.595</td>\n",
       "      <td>1</td>\n",
       "      <td>0</td>\n",
       "      <td>0</td>\n",
       "      <td>3</td>\n",
       "    </tr>\n",
       "  </tbody>\n",
       "</table>\n",
       "</div>"
      ],
      "text/plain": [
       "        2      3  4  5  6  7\n",
       "0  130.00  0.500  1  0  0  3\n",
       "1  130.38  0.524  1  0  0  3\n",
       "2  131.53  0.549  1  0  0  3\n",
       "3  133.42  0.572  1  0  0  3\n",
       "4  136.01  0.595  1  0  0  3"
      ]
     },
     "execution_count": 7,
     "metadata": {},
     "output_type": "execute_result"
    }
   ],
   "source": [
    "df.head()"
   ]
  },
  {
   "cell_type": "code",
   "execution_count": 10,
   "metadata": {},
   "outputs": [
    {
     "data": {
      "text/plain": [
       "0"
      ]
     },
     "execution_count": 10,
     "metadata": {},
     "output_type": "execute_result"
    }
   ],
   "source": [
    "df['7'].isna().sum()"
   ]
  },
  {
   "cell_type": "code",
   "execution_count": 11,
   "metadata": {},
   "outputs": [
    {
     "data": {
      "text/plain": [
       "2    0\n",
       "3    0\n",
       "4    0\n",
       "5    0\n",
       "6    0\n",
       "7    0\n",
       "dtype: int64"
      ]
     },
     "execution_count": 11,
     "metadata": {},
     "output_type": "execute_result"
    }
   ],
   "source": [
    "df.isna().sum()"
   ]
  },
  {
   "cell_type": "code",
   "execution_count": 12,
   "metadata": {},
   "outputs": [],
   "source": [
    "df.to_csv(\"/home/akshay/data/personal/Python_projects/Snake/final_data.csv\",index=False)"
   ]
  },
  {
   "cell_type": "code",
   "execution_count": 3,
   "metadata": {},
   "outputs": [
    {
     "name": "stdout",
     "output_type": "stream",
     "text": [
      "WARNING:tensorflow:From /home/akshay/anaconda3/lib/python3.8/site-packages/tensorflow/python/compat/v2_compat.py:96: disable_resource_variables (from tensorflow.python.ops.variable_scope) is deprecated and will be removed in a future version.\n",
      "Instructions for updating:\n",
      "non-resource variables are not supported in the long term\n"
     ]
    }
   ],
   "source": [
    "import numpy as np\n",
    "import tflearn\n",
    "import math\n",
    "from tflearn.layers.core import input_data, fully_connected\n",
    "from tflearn.layers.estimator import regression\n",
    "import pandas as pd\n",
    "df = pd.read_csv(\"/home/akshay/data/personal/Python_projects/Snake/final_data.csv\")"
   ]
  },
  {
   "cell_type": "raw",
   "metadata": {},
   "source": [
    "def create_dummy_model(training_data):\n",
    "    shape_second_parameter = len(training_data[0][0])\n",
    "    x = np.array([i[0] for i in training_data])\n",
    "    X = x.reshape(-1, shape_second_parameter, 1)\n",
    "    y = [i[1] for i in training_data]\n",
    "    model = create_neural_network_model(input_size=len(X[0]), output_size=len(y[0]))\n",
    "    return model\n",
    "\n",
    "\n",
    "def create_neural_network_model(input_size, output_size):\n",
    "    network = input_data(shape=[None, input_size, 1], name='input')\n",
    "    network = tflearn.fully_connected(network, 32)\n",
    "    network = tflearn.fully_connected(network, 32)\n",
    "    network = fully_connected(network, output_size, activation='softmax')\n",
    "    network = regression(network, name='targets')\n",
    "    model = tflearn.DNN(network, tensorboard_dir='tflearn_logs')\n",
    "\n",
    "    return model\n",
    "\n",
    "\n",
    "def train_model(training_data, model=False):\n",
    "    shape_second_parameter = len(training_data[0][0])\n",
    "    x = np.array([i[0] for i in training_data])\n",
    "    X = x.reshape(-1, shape_second_parameter, 1)\n",
    "    y = [i[1] for i in training_data]\n",
    "\n",
    "    model.fit({'input': X}, {'targets': y}, n_epoch=10, batch_size=16, show_metric=True)\n",
    "    model.save('miniskake_trained.tflearn')\n",
    "\n",
    "    return model"
   ]
  },
  {
   "cell_type": "raw",
   "metadata": {},
   "source": [
    "def create_dummy_model(training_data):\n",
    "    #shape_second_parameter = len(training_data[0][0])\n",
    "    x = np.array([i[:-1] for i in training_data])\n",
    "    X = x.reshape(-1, len(training_data), 1)\n",
    "    y = [i[-1] for i in training_data]\n",
    "    model = create_neural_network_model(input_size=len(X[0]), output_size=len(y[0]))\n",
    "    return model\n",
    "\n",
    "\n",
    "def create_neural_network_model(input_size, output_size):\n",
    "    network = input_data(shape=[None, 4, 1], name='input')\n",
    "    network = tflearn.fully_connected(network, 32)\n",
    "    network = tflearn.fully_connected(network, 32)\n",
    "    network = fully_connected(network, output_size, activation='softmax')\n",
    "    network = regression(network, name='targets')\n",
    "    model = tflearn.DNN(network, tensorboard_dir='tflearn_logs')\n",
    "\n",
    "    return model\n",
    "\n",
    "\n",
    "def train_model(training_data, model=False):\n",
    "    shape_second_parameter = len(training_data[0][0])\n",
    "    x = np.array([i[:-1] for i in training_data])\n",
    "    X = x.reshape(-1, len(training_data), 1)\n",
    "    y = [i[-1] for i in training_data]\n",
    "\n",
    "    model.fit({'input': X}, {'targets': y}, n_epoch=10, batch_size=16, show_metric=True)\n",
    "    model.save('miniskake_trained.tflearn')\n",
    "\n",
    "    return model"
   ]
  },
  {
   "cell_type": "code",
   "execution_count": 3,
   "metadata": {},
   "outputs": [],
   "source": [
    "import numpy as np\n",
    "import tflearn\n",
    "import math\n",
    "from tflearn.layers.core import input_data, fully_connected\n",
    "from tflearn.layers.estimator import regression\n",
    "import pandas as pd\n",
    "df = pd.read_csv(\"/home/akshay/data/personal/Python_projects/Snake/final_data.csv\")\n",
    "df.head(),df.shape\n",
    "training_data = df.values.tolist()"
   ]
  },
  {
   "cell_type": "code",
   "execution_count": 4,
   "metadata": {},
   "outputs": [
    {
     "data": {
      "text/plain": [
       "Index(['2', '3', '4', '5', '6', '7'], dtype='object')"
      ]
     },
     "execution_count": 4,
     "metadata": {},
     "output_type": "execute_result"
    }
   ],
   "source": [
    "df.columns"
   ]
  },
  {
   "cell_type": "code",
   "execution_count": 22,
   "metadata": {
    "scrolled": true
   },
   "outputs": [],
   "source": [
    "d = {'11':0,'22':0,'33':0,'44':0,'14':1,'12':2,'21':1,'23':2,'32':1,'34':2,'43':1,'41':2,'13':0,'31':0}\n",
    "l = [0]\n",
    "for i in range(1,len(df['7'])):\n",
    "#     if str(df['7'][i-1])+str(df['7'][i]) == '13':\n",
    "#         print(i)\n",
    "    l.append(d[(str(df['7'][i-1])+str(df['7'][i]))])"
   ]
  },
  {
   "cell_type": "code",
   "execution_count": 24,
   "metadata": {},
   "outputs": [],
   "source": [
    "len(l)\n",
    "df['target']=l"
   ]
  },
  {
   "cell_type": "code",
   "execution_count": 26,
   "metadata": {},
   "outputs": [],
   "source": [
    "df = df[[ '3', '4', '5', '6', 'target']]"
   ]
  },
  {
   "cell_type": "code",
   "execution_count": 28,
   "metadata": {},
   "outputs": [],
   "source": [
    "df.to_csv(\"/home/akshay/data/personal/Python_projects/Snake/final_data_2.csv\",index=False)"
   ]
  },
  {
   "cell_type": "code",
   "execution_count": 14,
   "metadata": {
    "scrolled": true
   },
   "outputs": [
    {
     "data": {
      "text/html": [
       "<div>\n",
       "<style scoped>\n",
       "    .dataframe tbody tr th:only-of-type {\n",
       "        vertical-align: middle;\n",
       "    }\n",
       "\n",
       "    .dataframe tbody tr th {\n",
       "        vertical-align: top;\n",
       "    }\n",
       "\n",
       "    .dataframe thead th {\n",
       "        text-align: right;\n",
       "    }\n",
       "</style>\n",
       "<table border=\"1\" class=\"dataframe\">\n",
       "  <thead>\n",
       "    <tr style=\"text-align: right;\">\n",
       "      <th></th>\n",
       "      <th>2</th>\n",
       "      <th>3</th>\n",
       "      <th>4</th>\n",
       "      <th>5</th>\n",
       "      <th>6</th>\n",
       "      <th>7</th>\n",
       "    </tr>\n",
       "  </thead>\n",
       "  <tbody>\n",
       "    <tr>\n",
       "      <th>3420</th>\n",
       "      <td>150.00</td>\n",
       "      <td>0.795</td>\n",
       "      <td>0</td>\n",
       "      <td>0</td>\n",
       "      <td>0</td>\n",
       "      <td>4</td>\n",
       "    </tr>\n",
       "    <tr>\n",
       "      <th>3421</th>\n",
       "      <td>158.11</td>\n",
       "      <td>0.807</td>\n",
       "      <td>0</td>\n",
       "      <td>0</td>\n",
       "      <td>0</td>\n",
       "      <td>4</td>\n",
       "    </tr>\n",
       "    <tr>\n",
       "      <th>3422</th>\n",
       "      <td>152.64</td>\n",
       "      <td>0.324</td>\n",
       "      <td>0</td>\n",
       "      <td>0</td>\n",
       "      <td>0</td>\n",
       "      <td>1</td>\n",
       "    </tr>\n",
       "    <tr>\n",
       "      <th>3423</th>\n",
       "      <td>147.65</td>\n",
       "      <td>0.343</td>\n",
       "      <td>0</td>\n",
       "      <td>0</td>\n",
       "      <td>0</td>\n",
       "      <td>1</td>\n",
       "    </tr>\n",
       "    <tr>\n",
       "      <th>3424</th>\n",
       "      <td>94.34</td>\n",
       "      <td>0.178</td>\n",
       "      <td>1</td>\n",
       "      <td>0</td>\n",
       "      <td>0</td>\n",
       "      <td>3</td>\n",
       "    </tr>\n",
       "    <tr>\n",
       "      <th>3425</th>\n",
       "      <td>143.18</td>\n",
       "      <td>0.362</td>\n",
       "      <td>0</td>\n",
       "      <td>0</td>\n",
       "      <td>0</td>\n",
       "      <td>1</td>\n",
       "    </tr>\n",
       "  </tbody>\n",
       "</table>\n",
       "</div>"
      ],
      "text/plain": [
       "           2      3  4  5  6  7\n",
       "3420  150.00  0.795  0  0  0  4\n",
       "3421  158.11  0.807  0  0  0  4\n",
       "3422  152.64  0.324  0  0  0  1\n",
       "3423  147.65  0.343  0  0  0  1\n",
       "3424   94.34  0.178  1  0  0  3\n",
       "3425  143.18  0.362  0  0  0  1"
      ]
     },
     "execution_count": 14,
     "metadata": {},
     "output_type": "execute_result"
    }
   ],
   "source": [
    "df.iloc[3420:3426]"
   ]
  },
  {
   "cell_type": "code",
   "execution_count": 2,
   "metadata": {
    "scrolled": false
   },
   "outputs": [
    {
     "name": "stdout",
     "output_type": "stream",
     "text": [
      "Training Step: 1219  | total loss: \u001b[1m\u001b[32m7.46228\u001b[0m\u001b[0m | time: 0.283s\n",
      "| Adam | epoch: 010 | loss: 7.46228 -- iter: 7744/7805\n",
      "Training Step: 1220  | total loss: \u001b[1m\u001b[32m7.38949\u001b[0m\u001b[0m | time: 0.285s\n",
      "| Adam | epoch: 010 | loss: 7.38949 -- iter: 7805/7805\n",
      "--\n",
      "INFO:tensorflow:/home/akshay/data/personal/Python_projects/Snake/model/version_1.tflearn is not in all_model_checkpoint_paths. Manually adding it.\n"
     ]
    }
   ],
   "source": [
    "\n",
    "\n",
    "X = np.array([i[:-1] for i in training_data]).reshape(-1, 5, 1)\n",
    "y = np.array([i[-1] for i in training_data]).reshape(-1, 1)\n",
    "\n",
    "network = input_data(shape=[None, 5, 1], name='input')\n",
    "network = fully_connected(network, 1, activation='linear')\n",
    "network = regression(network, optimizer='adam', learning_rate=1e-4, loss='mean_square', name='target')\n",
    "model = tflearn.DNN(network, tensorboard_dir='log')\n",
    "\n",
    "X = np.array([i[:-1] for i in training_data]).reshape(-1, 5, 1)\n",
    "y = np.array([i[-1] for i in training_data]).reshape(-1, 1)\n",
    "model.fit({'input':X},{'target':y}, n_epoch = 10, shuffle = True, run_id = \"version_1\")\n",
    "model.save(\"model/version_1.tflearn\")"
   ]
  },
  {
   "cell_type": "code",
   "execution_count": 2,
   "metadata": {
    "scrolled": false
   },
   "outputs": [
    {
     "name": "stderr",
     "output_type": "stream",
     "text": [
      "/home/akshay/anaconda3/lib/python3.8/site-packages/sklearn/utils/deprecation.py:143: FutureWarning: The sklearn.utils.testing module is  deprecated in version 0.22 and will be removed in version 0.24. The corresponding classes / functions should instead be imported from sklearn.utils. Anything that cannot be imported from sklearn.utils is now part of the private API.\n",
      "  warnings.warn(message, FutureWarning)\n",
      "  3%|▎         | 1/29 [00:00<00:05,  5.26it/s]"
     ]
    },
    {
     "name": "stdout",
     "output_type": "stream",
     "text": [
      "(7805, 5)\n",
      "(6244, 4) (1561, 4) (6244,) (1561,)\n"
     ]
    },
    {
     "name": "stderr",
     "output_type": "stream",
     "text": [
      "100%|██████████| 29/29 [00:09<00:00,  2.95it/s]"
     ]
    },
    {
     "name": "stdout",
     "output_type": "stream",
     "text": [
      "                               Accuracy  Balanced Accuracy ROC AUC  F1 Score  \\\n",
      "Model                                                                          \n",
      "NearestCentroid                    0.60               0.35    None      0.71   \n",
      "XGBClassifier                      0.94               0.34    None      0.91   \n",
      "ExtraTreeClassifier                0.93               0.34    None      0.91   \n",
      "DecisionTreeClassifier             0.93               0.34    None      0.91   \n",
      "ExtraTreesClassifier               0.93               0.34    None      0.91   \n",
      "BaggingClassifier                  0.93               0.34    None      0.91   \n",
      "RandomForestClassifier             0.93               0.34    None      0.91   \n",
      "GaussianNB                         0.03               0.33    None      0.00   \n",
      "QuadraticDiscriminantAnalysis      0.03               0.33    None      0.00   \n",
      "AdaBoostClassifier                 0.94               0.33    None      0.91   \n",
      "PassiveAggressiveClassifier        0.94               0.33    None      0.91   \n",
      "SVC                                0.94               0.33    None      0.91   \n",
      "SGDClassifier                      0.94               0.33    None      0.91   \n",
      "RidgeClassifierCV                  0.94               0.33    None      0.91   \n",
      "RidgeClassifier                    0.94               0.33    None      0.91   \n",
      "Perceptron                         0.94               0.33    None      0.91   \n",
      "LinearSVC                          0.94               0.33    None      0.91   \n",
      "LogisticRegression                 0.94               0.33    None      0.91   \n",
      "LinearDiscriminantAnalysis         0.94               0.33    None      0.91   \n",
      "LabelSpreading                     0.94               0.33    None      0.91   \n",
      "LabelPropagation                   0.94               0.33    None      0.91   \n",
      "KNeighborsClassifier               0.94               0.33    None      0.91   \n",
      "CalibratedClassifierCV             0.94               0.33    None      0.91   \n",
      "BernoulliNB                        0.94               0.33    None      0.91   \n",
      "LGBMClassifier                     0.94               0.33    None      0.91   \n",
      "DummyClassifier                    0.88               0.32    None      0.88   \n",
      "\n",
      "                               Time Taken  \n",
      "Model                                      \n",
      "NearestCentroid                      0.01  \n",
      "XGBClassifier                        0.57  \n",
      "ExtraTreeClassifier                  0.02  \n",
      "DecisionTreeClassifier               0.02  \n",
      "ExtraTreesClassifier                 0.31  \n",
      "BaggingClassifier                    0.08  \n",
      "RandomForestClassifier               0.72  \n",
      "GaussianNB                           0.02  \n",
      "QuadraticDiscriminantAnalysis        0.02  \n",
      "AdaBoostClassifier                   0.19  \n",
      "PassiveAggressiveClassifier          0.02  \n",
      "SVC                                  0.24  \n",
      "SGDClassifier                        0.04  \n",
      "RidgeClassifierCV                    0.02  \n",
      "RidgeClassifier                      0.02  \n",
      "Perceptron                           0.02  \n",
      "LinearSVC                            0.79  \n",
      "LogisticRegression                   0.05  \n",
      "LinearDiscriminantAnalysis           0.04  \n",
      "LabelSpreading                       1.73  \n",
      "LabelPropagation                     1.33  \n",
      "KNeighborsClassifier                 0.16  \n",
      "CalibratedClassifierCV               2.86  \n",
      "BernoulliNB                          0.02  \n",
      "LGBMClassifier                       0.47  \n",
      "DummyClassifier                      0.01  \n"
     ]
    },
    {
     "name": "stderr",
     "output_type": "stream",
     "text": [
      "\n"
     ]
    }
   ],
   "source": [
    "from lazypredict.Supervised import LazyClassifier, LazyRegressor\n",
    "import os, pandas as pd\n",
    "from sklearn.model_selection import train_test_split\n",
    "\n",
    "\n",
    "def check(inpoot):\n",
    "#     os.chdir(os.path.join(os.path.split(os.path.abspath(__file__))[0],\"..\"))\n",
    "#     file = \"data/\"+inpoot\n",
    "    final_train = pd.read_csv(inpoot)\n",
    "    print(final_train.shape)\n",
    "\n",
    "    # create X (features) and y (response)\n",
    "    X = final_train.drop(\"target\",axis=1)\n",
    "    y = final_train['target']\n",
    "\n",
    "    X_train, X_test, y_train, y_test = train_test_split(X, y, test_size=.2, random_state=2)\n",
    "    print(X_train.shape, X_test.shape, y_train.shape, y_test.shape)\n",
    "    \n",
    "    clf = LazyClassifier(predictions=True,verbose=0,ignore_warnings=True, custom_metric=None)\n",
    "    models, predictions = clf.fit(X_train, X_test, y_train, y_test)\n",
    "    print(models)\n",
    "\n",
    "\n",
    "if __name__ == \"__main__\":\n",
    "    inpoot = \"/home/akshay/data/personal/Python_projects/Snake/final_data_2.csv\"\n",
    "    check(inpoot)"
   ]
  },
  {
   "cell_type": "code",
   "execution_count": 7,
   "metadata": {},
   "outputs": [
    {
     "name": "stdout",
     "output_type": "stream",
     "text": [
      "(7805, 5)\n"
     ]
    }
   ],
   "source": [
    "import pickle,os\n",
    "from sklearn.model_selection import train_test_split, cross_val_score\n",
    "from sklearn.metrics import accuracy_score, classification_report, precision_score, recall_score \n",
    "from sklearn.metrics import confusion_matrix, precision_recall_curve, roc_curve, auc, log_loss\n",
    "import pandas as pd\n",
    "from sklearn.linear_model import LogisticRegression\n",
    "def train_model(inpoot,model_name):\n",
    "#     os.chdir(os.path.join(os.path.split(os.path.abspath(__file__))[0],\"..\"))\n",
    "\n",
    "#     final_data = \"data/\" + inpoot\n",
    "#     model = \"models/\" + model_name\n",
    "\n",
    "    final_train = pd.read_csv(inpoot)\n",
    "    print(final_train.shape)\n",
    "\n",
    "    # create X (features) and y (response)\n",
    "    X = final_train.drop(\"target\",axis=1)\n",
    "    y = final_train['target']\n",
    "\n",
    "    X_train, X_test, y_train, y_test = train_test_split(X, y, test_size=1, random_state=2)\n",
    "\n",
    "    # check classification scores of logistic regression\n",
    "    logreg = LogisticRegression(max_iter=10000)\n",
    "    logreg.fit(X_train, y_train)\n",
    "    pickle.dump(logreg, open(model_name, 'wb'))\n",
    "\n",
    "\n",
    "#if __name__ == \"__main__\":\n",
    "inpoot = \"/home/akshay/data/personal/Python_projects/Snake/final_data_2.csv\"\n",
    "model_name = \"/home/akshay/data/personal/Python_projects/Snake/model/LR_v1.pkl\"\n",
    "train_model(inpoot,model_name)"
   ]
  },
  {
   "cell_type": "code",
   "execution_count": 10,
   "metadata": {},
   "outputs": [
    {
     "data": {
      "text/plain": [
       "0    7313\n",
       "2     263\n",
       "1     229\n",
       "Name: target, dtype: int64"
      ]
     },
     "execution_count": 10,
     "metadata": {},
     "output_type": "execute_result"
    }
   ],
   "source": [
    "df = pd.read_csv(inpoot)\n",
    "df['target'].value_counts()"
   ]
  },
  {
   "cell_type": "code",
   "execution_count": null,
   "metadata": {},
   "outputs": [],
   "source": []
  },
  {
   "cell_type": "code",
   "execution_count": null,
   "metadata": {},
   "outputs": [],
   "source": []
  },
  {
   "cell_type": "code",
   "execution_count": null,
   "metadata": {},
   "outputs": [],
   "source": []
  },
  {
   "cell_type": "code",
   "execution_count": null,
   "metadata": {},
   "outputs": [],
   "source": []
  },
  {
   "cell_type": "code",
   "execution_count": null,
   "metadata": {},
   "outputs": [],
   "source": []
  },
  {
   "cell_type": "code",
   "execution_count": null,
   "metadata": {},
   "outputs": [],
   "source": []
  },
  {
   "cell_type": "code",
   "execution_count": 1,
   "metadata": {},
   "outputs": [
    {
     "name": "stdout",
     "output_type": "stream",
     "text": [
      "Training Step: 1219  | total loss: \u001b[1m\u001b[32m0.12247\u001b[0m\u001b[0m | time: 0.280s\n",
      "| Adam | epoch: 010 | loss: 0.12247 -- iter: 7744/7805\n",
      "Training Step: 1220  | total loss: \u001b[1m\u001b[32m0.11349\u001b[0m\u001b[0m | time: 0.283s\n",
      "| Adam | epoch: 010 | loss: 0.11349 -- iter: 7805/7805\n",
      "--\n",
      "INFO:tensorflow:/home/akshay/data/personal/Python_projects/Snake/model/version_1.tflearn is not in all_model_checkpoint_paths. Manually adding it.\n"
     ]
    }
   ],
   "source": [
    "import numpy as np\n",
    "import tflearn\n",
    "import math\n",
    "from tflearn.layers.core import input_data, fully_connected\n",
    "from tflearn.layers.estimator import regression\n",
    "import pandas as pd\n",
    "df = pd.read_csv(\"/home/akshay/data/personal/Python_projects/Snake/final_data_2.csv\")\n",
    "print(df.head(),df.shape)\n",
    "training_data = df.values.tolist()\n",
    "print(training_data)\n",
    "\n",
    "\n",
    "X = np.array([i[:-1] for i in training_data]).reshape(-1, 4, 1)\n",
    "y = np.array([i[-1] for i in training_data]).reshape(-1, 1)\n",
    "\n",
    "network = input_data(shape=[None, 4, 1], name='input')\n",
    "network = fully_connected(network, 1, activation='linear')\n",
    "network = regression(network, optimizer='adam', learning_rate=1e-4, loss='mean_square', name='target')\n",
    "model = tflearn.DNN(network, tensorboard_dir='log')\n",
    "\n",
    "X = np.array([i[:-1] for i in training_data]).reshape(-1, 4, 1)\n",
    "y = np.array([i[-1] for i in training_data]).reshape(-1, 1)\n",
    "model.fit({'input':X},{'target':y}, n_epoch = 10, shuffle = True, run_id = \"version_1\")\n",
    "model.save(\"model/version_1.tflearn\")"
   ]
  },
  {
   "cell_type": "code",
   "execution_count": null,
   "metadata": {},
   "outputs": [],
   "source": []
  },
  {
   "cell_type": "code",
   "execution_count": null,
   "metadata": {},
   "outputs": [],
   "source": []
  },
  {
   "cell_type": "code",
   "execution_count": null,
   "metadata": {},
   "outputs": [],
   "source": []
  },
  {
   "cell_type": "code",
   "execution_count": 2,
   "metadata": {},
   "outputs": [
    {
     "name": "stdout",
     "output_type": "stream",
     "text": [
      "Help on built-in function ord in module builtins:\n",
      "\n",
      "ord(c, /)\n",
      "    Return the Unicode code point for a one-character string.\n",
      "\n"
     ]
    }
   ],
   "source": [
    "help(ord)"
   ]
  },
  {
   "cell_type": "markdown",
   "metadata": {},
   "source": [
    "## 100 game data"
   ]
  },
  {
   "cell_type": "code",
   "execution_count": 11,
   "metadata": {},
   "outputs": [],
   "source": [
    "import pandas as pd"
   ]
  },
  {
   "cell_type": "code",
   "execution_count": 4,
   "metadata": {},
   "outputs": [],
   "source": [
    "df = pd.DataFrame(columns=[ '0', '1', '2', '3', '4','5'])\n",
    "for i in range(1,101):\n",
    "    path = \"/home/akshay/data/personal/Python_projects/Snake/data/training_data_\"+str(i)+\".csv\"\n",
    "    df2 = pd.read_csv(path)\n",
    "    df = df.append(df2)\n",
    "    df = df[[ '0', '1', '2', '3', '4']]\n",
    "df.to_csv(\"/home/akshay/data/personal/Python_projects/Snake/data/Final_training_data.csv\",index=False)"
   ]
  },
  {
   "cell_type": "code",
   "execution_count": 18,
   "metadata": {},
   "outputs": [],
   "source": []
  },
  {
   "cell_type": "code",
   "execution_count": 19,
   "metadata": {},
   "outputs": [
    {
     "data": {
      "text/plain": [
       "(363536, 12)"
      ]
     },
     "execution_count": 19,
     "metadata": {},
     "output_type": "execute_result"
    }
   ],
   "source": [
    "df.shape"
   ]
  },
  {
   "cell_type": "code",
   "execution_count": 1,
   "metadata": {},
   "outputs": [
    {
     "name": "stdout",
     "output_type": "stream",
     "text": [
      "Training Step: 15629  | total loss: \u001b[1m\u001b[32m0.59474\u001b[0m\u001b[0m | time: 4.946s\n",
      "| Adam | epoch: 010 | loss: 0.59474 -- iter: 099968/100000\n",
      "Training Step: 15630  | total loss: \u001b[1m\u001b[32m0.60141\u001b[0m\u001b[0m | time: 4.949s\n",
      "| Adam | epoch: 010 | loss: 0.60141 -- iter: 100000/100000\n",
      "--\n",
      "INFO:tensorflow:/home/akshay/data/personal/Python_projects/Snake/model/version_2_100_games.tflearn is not in all_model_checkpoint_paths. Manually adding it.\n"
     ]
    }
   ],
   "source": [
    "import numpy as np\n",
    "import tflearn\n",
    "import math\n",
    "from tflearn.layers.core import input_data, fully_connected\n",
    "from tflearn.layers.estimator import regression\n",
    "import pandas as pd\n",
    "df = pd.read_csv(\"/home/akshay/data/personal/Python_projects/Snake/data/Final_training_data.csv\")\n",
    "training_data = df.values.tolist()\n",
    "training_data = training_data[:100000]\n",
    "#print(training_data)\n",
    "\n",
    "\n",
    "X = np.array([i[:-1] for i in training_data]).reshape(-1, 4, 1)\n",
    "y = np.array([i[-1] for i in training_data]).reshape(-1, 1)\n",
    "\n",
    "network = input_data(shape=[None, 4, 1], name='input')\n",
    "network = fully_connected(network, 1, activation='linear')\n",
    "network = regression(network, optimizer='adam', learning_rate=1e-2, loss='mean_square', name='target')\n",
    "model = tflearn.DNN(network, tensorboard_dir='log')\n",
    "\n",
    "X = np.array([i[:-1] for i in training_data]).reshape(-1, 4, 1)\n",
    "y = np.array([i[-1] for i in training_data]).reshape(-1, 1)\n",
    "model.fit({'input':X},{'target':y}, n_epoch = 10, shuffle = True, run_id = \"version_1\")\n",
    "model.save(\"model/version_2_100_games.tflearn\")"
   ]
  },
  {
   "cell_type": "code",
   "execution_count": null,
   "metadata": {},
   "outputs": [
    {
     "name": "stderr",
     "output_type": "stream",
     "text": [
      "\r",
      "  0%|          | 0/29 [00:00<?, ?it/s]"
     ]
    },
    {
     "name": "stdout",
     "output_type": "stream",
     "text": [
      "(300000, 5)\n",
      "(240000, 4) (60000, 4) (240000,) (60000,)\n"
     ]
    },
    {
     "name": "stderr",
     "output_type": "stream",
     "text": [
      " 10%|█         | 3/29 [00:05<00:37,  1.46s/it]"
     ]
    }
   ],
   "source": [
    "from lazypredict.Supervised import LazyClassifier, LazyRegressor\n",
    "import os, pandas as pd\n",
    "from sklearn.model_selection import train_test_split\n",
    "\n",
    "\n",
    "def check(inpoot):\n",
    "    final_train = pd.read_csv(inpoot)\n",
    "    final_train = final_train.iloc[:300000]\n",
    "    print(final_train.shape)\n",
    "\n",
    "    # create X (features) and y (response)\n",
    "    X = final_train.drop(\"4\",axis=1)\n",
    "    y = final_train['4']\n",
    "\n",
    "    X_train, X_test, y_train, y_test = train_test_split(X, y, test_size=.2, random_state=2)\n",
    "    print(X_train.shape, X_test.shape, y_train.shape, y_test.shape)\n",
    "    clf = LazyClassifier(predictions=True,verbose=0,ignore_warnings=True, custom_metric=None)\n",
    "    models, predictions = clf.fit(X_train, X_test, y_train, y_test)\n",
    "    print(models)\n",
    "\n",
    "\n",
    "# if __name__ == \"__main__\":\n",
    "inpoot = \"/home/akshay/data/personal/Python_projects/Snake/data/Final_training_data.csv\"\n",
    "check(inpoot)"
   ]
  },
  {
   "cell_type": "code",
   "execution_count": 1,
   "metadata": {},
   "outputs": [],
   "source": [
    "import os, pandas as pd\n",
    "df = pd.read_csv(\"/home/akshay/data/personal/Python_projects/Snake/data/Final_training_data.csv\")"
   ]
  },
  {
   "cell_type": "code",
   "execution_count": 2,
   "metadata": {},
   "outputs": [
    {
     "data": {
      "text/plain": [
       "Index(['0', '1', '2', '3', '4'], dtype='object')"
      ]
     },
     "execution_count": 2,
     "metadata": {},
     "output_type": "execute_result"
    }
   ],
   "source": [
    "df.columns"
   ]
  },
  {
   "cell_type": "code",
   "execution_count": 3,
   "metadata": {},
   "outputs": [
    {
     "data": {
      "text/plain": [
       "0    0\n",
       "1    0\n",
       "2    0\n",
       "3    0\n",
       "4    0\n",
       "dtype: int64"
      ]
     },
     "execution_count": 3,
     "metadata": {},
     "output_type": "execute_result"
    }
   ],
   "source": [
    "df.isna().sum()"
   ]
  },
  {
   "cell_type": "code",
   "execution_count": 4,
   "metadata": {},
   "outputs": [
    {
     "name": "stdout",
     "output_type": "stream",
     "text": [
      "Accuracy: 0.944 (0.001)\n"
     ]
    }
   ],
   "source": [
    "# evaluate random forest algorithm for classification\n",
    "from numpy import mean\n",
    "from numpy import std\n",
    "from sklearn.datasets import make_classification\n",
    "from sklearn.model_selection import cross_val_score\n",
    "from sklearn.model_selection import RepeatedStratifiedKFold\n",
    "from sklearn.ensemble import RandomForestClassifier\n",
    "# define dataset\n",
    "X, y = make_classification(n_samples=1000, n_features=20, n_informative=15, n_redundant=5, random_state=3)\n",
    "X = df.drop(\"4\",axis=1)\n",
    "y = df['4']\n",
    "# define the model\n",
    "model = RandomForestClassifier()\n",
    "# evaluate the model\n",
    "cv = RepeatedStratifiedKFold(n_splits=10, n_repeats=3, random_state=1)\n",
    "n_scores = cross_val_score(model, X, y, scoring='accuracy', cv=cv, n_jobs=-1, error_score='raise')\n",
    "# report performance\n",
    "print('Accuracy: %.3f (%.3f)' % (mean(n_scores), std(n_scores)))"
   ]
  },
  {
   "cell_type": "code",
   "execution_count": 7,
   "metadata": {},
   "outputs": [],
   "source": [
    "model = RandomForestClassifier()\n",
    "model.fit(X,y)\n",
    "import pickle\n",
    "model_name = \"/home/akshay/data/personal/Python_projects/Snake/model/RF_v1.pkl\"\n",
    "pickle.dump(model, open(model_name, 'wb'))"
   ]
  },
  {
   "cell_type": "code",
   "execution_count": null,
   "metadata": {},
   "outputs": [],
   "source": [
    "import pandas as pd\n",
    "import numpy as np\n",
    "import matplotlib.pyplot as plt\n",
    "import matplotlib\n",
    "from sklearn.ensemble import RandomForestClassifier\n",
    "from sklearn.model_selection import StratifiedKFold\n",
    "from sklearn.metrics import roc_curve, auc\n",
    "%matplotlib inline\n",
    "matplotlib.rcParams.update({'font.size': 20})\n",
    "\n",
    "clf = RandomForestClassifier(\n",
    "    n_estimators=50,\n",
    "    criterion='gini',\n",
    "    max_depth=5,\n",
    "    min_samples_split=2,\n",
    "    min_samples_leaf=1,\n",
    "    min_weight_fraction_leaf=0.0,\n",
    "    max_features='auto',\n",
    "    max_leaf_nodes=None,\n",
    "    min_impurity_decrease=0.0,\n",
    "    min_impurity_split=None,\n",
    "    bootstrap=True,\n",
    "    oob_score=False,\n",
    "    n_jobs=-1,\n",
    "    random_state=0,\n",
    "    verbose=0,\n",
    "    warm_start=False,\n",
    "    class_weight='balanced'\n",
    ")\n",
    "\n",
    "\n"
   ]
  },
  {
   "cell_type": "code",
   "execution_count": null,
   "metadata": {},
   "outputs": [],
   "source": []
  },
  {
   "cell_type": "code",
   "execution_count": null,
   "metadata": {},
   "outputs": [],
   "source": []
  },
  {
   "cell_type": "code",
   "execution_count": 19,
   "metadata": {},
   "outputs": [],
   "source": [
    "import pandas as pd\n",
    "df =pd.read_csv(\"/home/akshay/data/personal/Python_projects/Snake/data/Final_training_data.csv\")"
   ]
  },
  {
   "cell_type": "code",
   "execution_count": 20,
   "metadata": {},
   "outputs": [
    {
     "data": {
      "text/html": [
       "<div>\n",
       "<style scoped>\n",
       "    .dataframe tbody tr th:only-of-type {\n",
       "        vertical-align: middle;\n",
       "    }\n",
       "\n",
       "    .dataframe tbody tr th {\n",
       "        vertical-align: top;\n",
       "    }\n",
       "\n",
       "    .dataframe thead th {\n",
       "        text-align: right;\n",
       "    }\n",
       "</style>\n",
       "<table border=\"1\" class=\"dataframe\">\n",
       "  <thead>\n",
       "    <tr style=\"text-align: right;\">\n",
       "      <th></th>\n",
       "      <th>0</th>\n",
       "      <th>1</th>\n",
       "      <th>2</th>\n",
       "      <th>3</th>\n",
       "      <th>4</th>\n",
       "    </tr>\n",
       "  </thead>\n",
       "  <tbody>\n",
       "    <tr>\n",
       "      <th>0</th>\n",
       "      <td>0.138</td>\n",
       "      <td>0</td>\n",
       "      <td>0</td>\n",
       "      <td>0</td>\n",
       "      <td>2</td>\n",
       "    </tr>\n",
       "    <tr>\n",
       "      <th>1</th>\n",
       "      <td>0.138</td>\n",
       "      <td>0</td>\n",
       "      <td>0</td>\n",
       "      <td>0</td>\n",
       "      <td>2</td>\n",
       "    </tr>\n",
       "    <tr>\n",
       "      <th>2</th>\n",
       "      <td>-0.373</td>\n",
       "      <td>0</td>\n",
       "      <td>0</td>\n",
       "      <td>0</td>\n",
       "      <td>1</td>\n",
       "    </tr>\n",
       "    <tr>\n",
       "      <th>3</th>\n",
       "      <td>-0.373</td>\n",
       "      <td>0</td>\n",
       "      <td>0</td>\n",
       "      <td>0</td>\n",
       "      <td>1</td>\n",
       "    </tr>\n",
       "    <tr>\n",
       "      <th>4</th>\n",
       "      <td>0.132</td>\n",
       "      <td>0</td>\n",
       "      <td>0</td>\n",
       "      <td>0</td>\n",
       "      <td>2</td>\n",
       "    </tr>\n",
       "  </tbody>\n",
       "</table>\n",
       "</div>"
      ],
      "text/plain": [
       "       0  1  2  3  4\n",
       "0  0.138  0  0  0  2\n",
       "1  0.138  0  0  0  2\n",
       "2 -0.373  0  0  0  1\n",
       "3 -0.373  0  0  0  1\n",
       "4  0.132  0  0  0  2"
      ]
     },
     "execution_count": 20,
     "metadata": {},
     "output_type": "execute_result"
    }
   ],
   "source": [
    "df.head()"
   ]
  },
  {
   "cell_type": "code",
   "execution_count": 21,
   "metadata": {},
   "outputs": [],
   "source": [
    "# l = [left, front, right, down]\n",
    "l= []\n",
    "for i in df['0']:\n",
    "    if i == 0:\n",
    "        l.append([0,1,0,0])\n",
    "    elif i==1 or i==-1:\n",
    "        l.append([0,0,0,1])\n",
    "    elif i==-0.5:\n",
    "        l.append([1,0,0,0])\n",
    "    elif i==0.5:\n",
    "        l.append([0,0,1,0])\n",
    "    elif 0<i<0.5:\n",
    "        l.append([0,1,1,0])\n",
    "    elif 0.5<i<1:\n",
    "        l.append([0,0,1,1])\n",
    "    elif -0.5<i<0:\n",
    "        l.append([1,1,0,0])\n",
    "    elif -1<i<-0.5:\n",
    "        l.append([1,0,0,1])"
   ]
  },
  {
   "cell_type": "code",
   "execution_count": 22,
   "metadata": {},
   "outputs": [],
   "source": [
    "df2 = pd.DataFrame(l,columns=['left', 'front', 'right', 'down'])"
   ]
  },
  {
   "cell_type": "code",
   "execution_count": 23,
   "metadata": {},
   "outputs": [],
   "source": [
    "df = pd.concat([df, df2], axis=1)"
   ]
  },
  {
   "cell_type": "code",
   "execution_count": 24,
   "metadata": {},
   "outputs": [
    {
     "data": {
      "text/html": [
       "<div>\n",
       "<style scoped>\n",
       "    .dataframe tbody tr th:only-of-type {\n",
       "        vertical-align: middle;\n",
       "    }\n",
       "\n",
       "    .dataframe tbody tr th {\n",
       "        vertical-align: top;\n",
       "    }\n",
       "\n",
       "    .dataframe thead th {\n",
       "        text-align: right;\n",
       "    }\n",
       "</style>\n",
       "<table border=\"1\" class=\"dataframe\">\n",
       "  <thead>\n",
       "    <tr style=\"text-align: right;\">\n",
       "      <th></th>\n",
       "      <th>0</th>\n",
       "      <th>1</th>\n",
       "      <th>2</th>\n",
       "      <th>3</th>\n",
       "      <th>4</th>\n",
       "      <th>left</th>\n",
       "      <th>front</th>\n",
       "      <th>right</th>\n",
       "      <th>down</th>\n",
       "    </tr>\n",
       "  </thead>\n",
       "  <tbody>\n",
       "    <tr>\n",
       "      <th>0</th>\n",
       "      <td>0.138</td>\n",
       "      <td>0</td>\n",
       "      <td>0</td>\n",
       "      <td>0</td>\n",
       "      <td>2</td>\n",
       "      <td>0</td>\n",
       "      <td>1</td>\n",
       "      <td>1</td>\n",
       "      <td>0</td>\n",
       "    </tr>\n",
       "    <tr>\n",
       "      <th>1</th>\n",
       "      <td>0.138</td>\n",
       "      <td>0</td>\n",
       "      <td>0</td>\n",
       "      <td>0</td>\n",
       "      <td>2</td>\n",
       "      <td>0</td>\n",
       "      <td>1</td>\n",
       "      <td>1</td>\n",
       "      <td>0</td>\n",
       "    </tr>\n",
       "    <tr>\n",
       "      <th>2</th>\n",
       "      <td>-0.373</td>\n",
       "      <td>0</td>\n",
       "      <td>0</td>\n",
       "      <td>0</td>\n",
       "      <td>1</td>\n",
       "      <td>1</td>\n",
       "      <td>1</td>\n",
       "      <td>0</td>\n",
       "      <td>0</td>\n",
       "    </tr>\n",
       "    <tr>\n",
       "      <th>3</th>\n",
       "      <td>-0.373</td>\n",
       "      <td>0</td>\n",
       "      <td>0</td>\n",
       "      <td>0</td>\n",
       "      <td>1</td>\n",
       "      <td>1</td>\n",
       "      <td>1</td>\n",
       "      <td>0</td>\n",
       "      <td>0</td>\n",
       "    </tr>\n",
       "    <tr>\n",
       "      <th>4</th>\n",
       "      <td>0.132</td>\n",
       "      <td>0</td>\n",
       "      <td>0</td>\n",
       "      <td>0</td>\n",
       "      <td>2</td>\n",
       "      <td>0</td>\n",
       "      <td>1</td>\n",
       "      <td>1</td>\n",
       "      <td>0</td>\n",
       "    </tr>\n",
       "  </tbody>\n",
       "</table>\n",
       "</div>"
      ],
      "text/plain": [
       "       0  1  2  3  4  left  front  right  down\n",
       "0  0.138  0  0  0  2     0      1      1     0\n",
       "1  0.138  0  0  0  2     0      1      1     0\n",
       "2 -0.373  0  0  0  1     1      1      0     0\n",
       "3 -0.373  0  0  0  1     1      1      0     0\n",
       "4  0.132  0  0  0  2     0      1      1     0"
      ]
     },
     "execution_count": 24,
     "metadata": {},
     "output_type": "execute_result"
    }
   ],
   "source": [
    "df.head()"
   ]
  },
  {
   "cell_type": "code",
   "execution_count": 25,
   "metadata": {},
   "outputs": [
    {
     "data": {
      "text/plain": [
       "(363536, 9)"
      ]
     },
     "execution_count": 25,
     "metadata": {},
     "output_type": "execute_result"
    }
   ],
   "source": [
    "df.shape"
   ]
  },
  {
   "cell_type": "code",
   "execution_count": 26,
   "metadata": {},
   "outputs": [],
   "source": [
    "df.to_csv(\"/home/akshay/data/personal/Python_projects/Snake/data/Final_training_data_one_hot_encoded.csv\",index=False)"
   ]
  },
  {
   "cell_type": "code",
   "execution_count": null,
   "metadata": {},
   "outputs": [],
   "source": [
    "# evaluate random forest algorithm for classification\n",
    "from numpy import mean\n",
    "from numpy import std\n",
    "from sklearn.datasets import make_classification\n",
    "from sklearn.model_selection import cross_val_score\n",
    "from sklearn.model_selection import RepeatedStratifiedKFold\n",
    "from sklearn.ensemble import RandomForestClassifier\n",
    "# define dataset\n",
    "X, y = make_classification(n_samples=1000, n_features=20, n_informative=15, n_redundant=5, random_state=3)\n",
    "X = df.drop([\"4\",\"0\"],axis=1)\n",
    "y = df['4']\n",
    "# define the model\n",
    "model = RandomForestClassifier()\n",
    "# evaluate the model\n",
    "cv = RepeatedStratifiedKFold(n_splits=10, n_repeats=3, random_state=1)\n",
    "n_scores = cross_val_score(model, X, y, scoring='accuracy', cv=cv, n_jobs=-1, error_score='raise')\n",
    "# report performance\n",
    "print('Accuracy: %.3f (%.3f)' % (mean(n_scores), std(n_scores)))"
   ]
  },
  {
   "cell_type": "code",
   "execution_count": null,
   "metadata": {},
   "outputs": [],
   "source": [
    "model = RandomForestClassifier()\n",
    "model.fit(X,y)\n",
    "import pickle\n",
    "model_name = \"/home/akshay/data/personal/Python_projects/Snake/model/RF_v2.pkl\"\n",
    "pickle.dump(model, open(model_name, 'wb'))"
   ]
  },
  {
   "cell_type": "code",
   "execution_count": null,
   "metadata": {},
   "outputs": [],
   "source": []
  }
 ],
 "metadata": {
  "kernelspec": {
   "display_name": "Python 3",
   "language": "python",
   "name": "python3"
  },
  "language_info": {
   "codemirror_mode": {
    "name": "ipython",
    "version": 3
   },
   "file_extension": ".py",
   "mimetype": "text/x-python",
   "name": "python",
   "nbconvert_exporter": "python",
   "pygments_lexer": "ipython3",
   "version": "3.8.5"
  }
 },
 "nbformat": 4,
 "nbformat_minor": 4
}
